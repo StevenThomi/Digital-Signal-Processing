{
 "cells": [
  {
   "cell_type": "markdown",
   "id": "d3cb8a1b",
   "metadata": {},
   "source": [
    "### Retrieve Frequency Domain and Time Domain Data"
   ]
  },
  {
   "cell_type": "code",
   "execution_count": 1,
   "id": "580de060",
   "metadata": {},
   "outputs": [],
   "source": [
    "def readFile(file):\n",
    "    \"\"\"\n",
    "    Reads a file in memory\n",
    "    \n",
    "    Arguments:\n",
    "        file (string): file to be read in\n",
    "    \n",
    "    Returns:\n",
    "        Python list containing file data points\n",
    "    \"\"\"\n",
    "    data = []\n",
    "\n",
    "    infile = open(file,\"r\")\n",
    "    s = infile.read()\n",
    "\n",
    "    numbers = [eval(x) for x in s.split()]\n",
    "    for number in numbers:\n",
    "        data.append(number)\n",
    "\n",
    "    infile.close() # Close the file\n",
    "    return data"
   ]
  },
  {
   "cell_type": "markdown",
   "id": "4802f968",
   "metadata": {},
   "source": [
    "#### Training Set"
   ]
  },
  {
   "cell_type": "code",
   "execution_count": 2,
   "id": "a91856e6",
   "metadata": {},
   "outputs": [],
   "source": [
    "# Set 1\n",
    "music_nv_1_time = readFile('Data/Training/Set 1/y1.txt')\n",
    "\n",
    "music_v_1_time = readFile('Data/Training/Set 1/y2.txt')\n",
    "\n",
    "speech_1_time = readFile('Data/Training/Set 1/y3.txt')\n",
    "\n",
    "speech_bkg_music_1_time = readFile('Data/Training/Set 1/y4.txt')\n",
    "\n",
    "# Set 2\n",
    "music_nv_2_time = readFile('Data/Training/Set 2/y1.txt')\n",
    "\n",
    "music_v_2_time = readFile('Data/Training/Set 2/y2.txt')\n",
    "\n",
    "speech_2_time = readFile('Data/Training/Set 2/y3.txt')\n",
    "\n",
    "speech_bkg_music_2_time = readFile('Data/Training/Set 2/y4.txt')"
   ]
  },
  {
   "cell_type": "markdown",
   "id": "f9a9743c",
   "metadata": {},
   "source": [
    "#### Testing Set"
   ]
  },
  {
   "cell_type": "code",
   "execution_count": 3,
   "id": "6b96f6c3",
   "metadata": {},
   "outputs": [],
   "source": [
    "# Set 3\n",
    "music_nv_3_time = readFile('Data/Testing/Set 3/y1.txt')\n",
    "\n",
    "music_v_3_time = readFile('Data/Testing/Set 3/y2.txt')\n",
    "\n",
    "speech_3_time = readFile('Data/Testing/Set 3/y3.txt')\n",
    "\n",
    "speech_bkg_music_3_time = readFile('Data/Testing/Set 3/y4.txt')\n",
    "\n",
    "# Set 4\n",
    "music_nv_4_time = readFile('Data/Testing/Set 4/y1.txt')\n",
    "\n",
    "music_v_4_time = readFile('Data/Testing/Set 4/y2.txt')\n",
    "\n",
    "speech_4_time = readFile('Data/Testing/Set 4/y3.txt')\n",
    "\n",
    "speech_bkg_music_4_time = readFile('Data/Testing/Set 4/y4.txt')"
   ]
  },
  {
   "cell_type": "markdown",
   "id": "460f9d15",
   "metadata": {},
   "source": [
    "### Feature Selection"
   ]
  },
  {
   "cell_type": "markdown",
   "id": "148e664d",
   "metadata": {},
   "source": [
    "### Calculate Time Domain Signal Mean Value (Weighted)"
   ]
  },
  {
   "cell_type": "code",
   "execution_count": 4,
   "id": "021ecc72",
   "metadata": {},
   "outputs": [],
   "source": [
    "def meanValue(aList):\n",
    "    \"\"\"\n",
    "    Calculates the mean value of the absolute signal\n",
    "    \n",
    "    Arguments:\n",
    "        aList (array): 1-D array containing values to be averaged\n",
    "    \n",
    "    Returns:\n",
    "        Average of values\n",
    "    \"\"\"\n",
    "    listSum = 0\n",
    "    count = 0\n",
    "    for value in aList:\n",
    "        listSum = listSum + abs(value)\n",
    "        \n",
    "    # The sample frequency is 22050 Hz\n",
    "    # Therefore, the data points in a 5 s recording are 110250\n",
    "    mean = listSum / 110250\n",
    "    \n",
    "    return mean"
   ]
  },
  {
   "cell_type": "markdown",
   "id": "b1cdf446",
   "metadata": {},
   "source": [
    "#### Training Set"
   ]
  },
  {
   "cell_type": "code",
   "execution_count": 5,
   "id": "06ca60b7",
   "metadata": {},
   "outputs": [],
   "source": [
    "# Set 1\n",
    "music_nv_1_time_mean = meanValue(music_nv_1_time)\n",
    "\n",
    "music_v_1_time_mean = meanValue(music_v_1_time)\n",
    "\n",
    "speech_1_time_mean = meanValue(speech_1_time)\n",
    "\n",
    "speech_bkg_music_1_time_mean = meanValue(speech_bkg_music_1_time)\n",
    "\n",
    "# Set 2\n",
    "music_nv_2_time_mean = meanValue(music_nv_2_time)\n",
    "\n",
    "music_v_2_time_mean = meanValue(music_v_2_time)\n",
    "\n",
    "speech_2_time_mean = meanValue(speech_2_time)\n",
    "\n",
    "speech_bkg_music_2_time_mean = meanValue(speech_bkg_music_2_time)"
   ]
  },
  {
   "cell_type": "markdown",
   "id": "06e88d24",
   "metadata": {},
   "source": [
    "#### Testing Set"
   ]
  },
  {
   "cell_type": "code",
   "execution_count": 6,
   "id": "84f9e108",
   "metadata": {},
   "outputs": [],
   "source": [
    "# Set 3\n",
    "music_nv_3_time_mean = meanValue(music_nv_3_time)\n",
    "\n",
    "music_v_3_time_mean = meanValue(music_v_3_time)\n",
    "\n",
    "speech_3_time_mean = meanValue(speech_3_time)\n",
    "\n",
    "speech_bkg_music_3_time_mean = meanValue(speech_bkg_music_3_time)\n",
    "\n",
    "# Set 4\n",
    "music_nv_4_time_mean = meanValue(music_nv_4_time)\n",
    "\n",
    "music_v_4_time_mean = meanValue(music_v_4_time)\n",
    "\n",
    "speech_4_time_mean = meanValue(speech_4_time)\n",
    "\n",
    "speech_bkg_music_4_time_mean = meanValue(speech_bkg_music_4_time)"
   ]
  },
  {
   "cell_type": "markdown",
   "id": "a6ecf5ff",
   "metadata": {},
   "source": [
    "### Calculate Percentage of Signal Below Mean [Feature #2]"
   ]
  },
  {
   "cell_type": "code",
   "execution_count": 7,
   "id": "fe9c1da0",
   "metadata": {},
   "outputs": [],
   "source": [
    "def maxCount(aList, mean, scaling_factor):\n",
    "    \"\"\"\n",
    "    Calculates the maximum number of consecutive low amplitude points\n",
    "    \n",
    "    Arguments:\n",
    "        aList (array): 1-D array containing values to be iterated\n",
    "        mean (float): The calculated absolute value average\n",
    "        scaling_factor (float): Calculates 'null point' relative to signal mean\n",
    "    \n",
    "    Returns:\n",
    "        Number of low amplitude (null) points\n",
    "    \"\"\"\n",
    "    count = 0\n",
    "    max_count = 0\n",
    "    \n",
    "    for i in range(len(aList)-1):\n",
    "        if abs(aList[i]) < (mean*scaling_factor) and abs(aList[i+1]) < (mean*scaling_factor):\n",
    "            count = count + 1\n",
    "        else:\n",
    "            count = 0\n",
    "            \n",
    "        if count > max_count:\n",
    "            max_count = count\n",
    "                \n",
    "    \n",
    "    return max_count"
   ]
  },
  {
   "cell_type": "markdown",
   "id": "fa5808db",
   "metadata": {},
   "source": [
    "### Scaling Factor of 0.5"
   ]
  },
  {
   "cell_type": "markdown",
   "id": "7f3c0fe2",
   "metadata": {},
   "source": [
    "#### Training Set"
   ]
  },
  {
   "cell_type": "code",
   "execution_count": 8,
   "id": "261ee3dd",
   "metadata": {},
   "outputs": [],
   "source": [
    "# Set 1\n",
    "music_nv_1_null_time_0_5 = maxCount(music_nv_1_time, music_nv_1_time_mean, 0.5)\n",
    "\n",
    "music_v_1_null_time_0_5 = maxCount(music_v_1_time, music_v_1_time_mean, 0.5)\n",
    "\n",
    "speech_1_null_time_0_5 = maxCount(speech_1_time, speech_1_time_mean, 0.5)\n",
    "\n",
    "speech_bkg_music_1_null_time_0_5 = maxCount(speech_bkg_music_1_time, speech_bkg_music_1_time_mean, 0.5)\n",
    "\n",
    "# Set 2\n",
    "music_nv_2_null_time_0_5 = maxCount(music_nv_2_time, music_nv_2_time_mean, 0.5)\n",
    "\n",
    "music_v_2_null_time_0_5 = maxCount(music_v_2_time, music_v_2_time_mean, 0.5)\n",
    "\n",
    "speech_2_null_time_0_5 = maxCount(speech_2_time, speech_2_time_mean, 0.5)\n",
    "\n",
    "speech_bkg_music_2_null_time_0_5 = maxCount(speech_bkg_music_2_time, speech_bkg_music_2_time_mean, 0.5)"
   ]
  },
  {
   "cell_type": "markdown",
   "id": "23ef047d",
   "metadata": {},
   "source": [
    "#### Testing Set"
   ]
  },
  {
   "cell_type": "code",
   "execution_count": 9,
   "id": "9db04fc6",
   "metadata": {},
   "outputs": [],
   "source": [
    "# Set 3\n",
    "music_nv_3_null_time_0_5 = maxCount(music_nv_3_time, music_nv_3_time_mean, 0.5)\n",
    "\n",
    "music_v_3_null_time_0_5 = maxCount(music_v_3_time, music_v_3_time_mean, 0.5)\n",
    "\n",
    "speech_3_null_time_0_5 = maxCount(speech_3_time, speech_3_time_mean, 0.5)\n",
    "\n",
    "speech_bkg_music_3_null_time_0_5 = maxCount(speech_bkg_music_3_time, speech_bkg_music_3_time_mean, 0.5)\n",
    "\n",
    "# Set 4\n",
    "music_nv_4_null_time_0_5 = maxCount(music_nv_4_time, music_nv_4_time_mean, 0.5)\n",
    "\n",
    "music_v_4_null_time_0_5 = maxCount(music_v_4_time, music_v_4_time_mean, 0.5)\n",
    "\n",
    "speech_4_null_time_0_5 = maxCount(speech_4_time, speech_4_time_mean, 0.5)\n",
    "\n",
    "speech_bkg_music_4_null_time_0_5 = maxCount(speech_bkg_music_4_time, speech_bkg_music_4_time_mean, 0.5)"
   ]
  },
  {
   "cell_type": "markdown",
   "id": "0b9ad40c",
   "metadata": {},
   "source": [
    "### Data Partitioning"
   ]
  },
  {
   "cell_type": "markdown",
   "id": "9c62cf3f",
   "metadata": {},
   "source": [
    "There are currently four sound categories we are working with:\n",
    "- music with no vocals\n",
    "- music with vocals\n",
    "- speech\n",
    "- speech with background music\n",
    "\n",
    "At this point we have worked enough through the time domain statistics to gather a sufficient set of traits to run the system through.\n",
    "We will take the following strategy to pin point the exact class the test data points to.\n",
    "\n",
    "#### Project: Diverge from the sound basis\n",
    "Is the sound speech-oriented or music-oriented?\n",
    "\n",
    "The music-oriented category in this case consists of:\n",
    "- music with no vocals\n",
    "- music with vocals\n",
    "\n",
    "The main message being transmitted is the rhythm, instrumentation, and/or vocalisation of the musical material.\n",
    "\n",
    "The speech-oriented category in this case consists of:\n",
    "- speech\n",
    "- speech with background music\n",
    "\n",
    "The main message being transmitted is the speaker's words."
   ]
  },
  {
   "cell_type": "code",
   "execution_count": 10,
   "id": "7c43e234",
   "metadata": {},
   "outputs": [],
   "source": [
    "import numpy as np"
   ]
  },
  {
   "cell_type": "markdown",
   "id": "cb023fe3",
   "metadata": {},
   "source": [
    "#### Training Set"
   ]
  },
  {
   "cell_type": "code",
   "execution_count": 11,
   "id": "494ba123",
   "metadata": {},
   "outputs": [],
   "source": [
    "# Using training set 1 and 2, populate the training arrays with % time below 0.5 * mean\n",
    "\n",
    "# ~ Class 0 = speech based\n",
    "# ~ Class 1 = music based\n",
    "\n",
    "speach_music_train = np.array([speech_1_null_time_0_5, \n",
    "                               speech_2_null_time_0_5, \n",
    "                               speech_bkg_music_1_null_time_0_5, \n",
    "                               speech_bkg_music_2_null_time_0_5, \n",
    "                               music_nv_1_null_time_0_5, \n",
    "                               music_nv_2_null_time_0_5, \n",
    "                               music_v_1_null_time_0_5, \n",
    "                               music_v_2_null_time_0_5])\n",
    "\n",
    "label_sm_train = np.array([0, 0, 0, 0, 1, 1, 1, 1])"
   ]
  },
  {
   "cell_type": "markdown",
   "id": "6f5c0472",
   "metadata": {},
   "source": [
    "#### Testing Set"
   ]
  },
  {
   "cell_type": "code",
   "execution_count": 12,
   "id": "91a3470d",
   "metadata": {},
   "outputs": [],
   "source": [
    "# Using testing set 3 and 4, populate the testing arrays with % time below 0.5 * mean\n",
    "\n",
    "# ~ Class 0 = speech\n",
    "# ~ Class 1 = music\n",
    "\n",
    "speach_music_test = np.array([speech_3_null_time_0_5, \n",
    "                              speech_4_null_time_0_5, \n",
    "                              speech_bkg_music_3_null_time_0_5, \n",
    "                              speech_bkg_music_4_null_time_0_5, \n",
    "                              music_nv_3_null_time_0_5, \n",
    "                              music_nv_4_null_time_0_5, \n",
    "                              music_v_3_null_time_0_5, \n",
    "                              music_v_4_null_time_0_5])\n",
    "\n",
    "label_sm_test = np.array([0, 0, 0, 0, 1, 1, 1, 1])"
   ]
  },
  {
   "cell_type": "markdown",
   "id": "13989505",
   "metadata": {},
   "source": [
    "#### Data Visualisation"
   ]
  },
  {
   "cell_type": "code",
   "execution_count": 13,
   "id": "7c109629",
   "metadata": {},
   "outputs": [],
   "source": [
    "import matplotlib.pyplot as plt"
   ]
  },
  {
   "cell_type": "code",
   "execution_count": 14,
   "id": "3c424513",
   "metadata": {},
   "outputs": [
    {
     "data": {
      "image/png": "[encoded data removed]",
      "text/plain": [
       "<Figure size 432x288 with 1 Axes>"
      ]
     },
     "metadata": {
      "needs_background": "light"
     },
     "output_type": "display_data"
    }
   ],
   "source": [
    "plt.plot(label_sm_train[0:4], speach_music_train[0:4], 'ro')\n",
    "plt.plot(label_sm_train[4:8], speach_music_train[4:8], 'bo')\n",
    "plt.xlabel('Class Number')\n",
    "plt.ylabel('Maximum Consecutive Null Points')\n",
    "plt.title('Maximum Consecutive Null Points')\n",
    "plt.grid(True)\n",
    "plt.show()"
   ]
  },
  {
   "cell_type": "markdown",
   "id": "47567e90",
   "metadata": {},
   "source": [
    "The graphs above might be a little misleading. The quantity of interest is plotted along the **verical axis**, the horizontal axis merely benefits the reader by making the points more discernable.\n",
    "\n",
    "The kNN algorithm will; therefore, be **adapted** to measure vertical distance between points as the distance metric - the horizontal (and hypotenuse) distance is irrelevant to our analysis."
   ]
  },
  {
   "cell_type": "markdown",
   "id": "4aa01f66",
   "metadata": {},
   "source": [
    "### Establish a Definition for our kNN algorithm"
   ]
  },
  {
   "cell_type": "markdown",
   "id": "20068894",
   "metadata": {},
   "source": [
    "#### Distance Between Two Points"
   ]
  },
  {
   "cell_type": "code",
   "execution_count": 15,
   "id": "fef67ec3",
   "metadata": {},
   "outputs": [],
   "source": [
    "def verticalDistance(y_a, y_b):\n",
    "    \"\"\"\n",
    "    Calculates the vertical distance between two points (1 feature)\n",
    "    \n",
    "    Arguments:\n",
    "        y_a (float): 1-D array containing values to be iterated\n",
    "        y_b (float): The calculated absolute value average\n",
    "    \n",
    "    Returns:\n",
    "        Distance between two points\n",
    "    \"\"\"\n",
    "    return abs(y_a - y_b)"
   ]
  },
  {
   "cell_type": "markdown",
   "id": "c040a7ae",
   "metadata": {},
   "source": [
    "#### Calculate List of Distances"
   ]
  },
  {
   "cell_type": "code",
   "execution_count": 16,
   "id": "c702e74c",
   "metadata": {},
   "outputs": [],
   "source": [
    "def listOfDistances(x_test, X_in):\n",
    "    \"\"\"\n",
    "    Calculates a list of distances from a test point to each \n",
    "    member of an input array\n",
    "    \n",
    "    Arguments:\n",
    "        x_test (float): Test point\n",
    "        X_in (array): 1-D array containing values to be iterated\n",
    "    \n",
    "    Returns:\n",
    "        List of distances between test point and input array\n",
    "    \"\"\"\n",
    "    distance_list = []\n",
    "    \n",
    "    length = len(X_in)\n",
    "    \n",
    "    while length > 0:\n",
    "        distance_list.insert(0,verticalDistance(x_test, X_in[length-1]))\n",
    "        length = length-1\n",
    "    \n",
    "    return distance_list"
   ]
  },
  {
   "cell_type": "code",
   "execution_count": 17,
   "id": "6e2806a6",
   "metadata": {},
   "outputs": [
    {
     "data": {
      "text/plain": [
       "[1.0, 2.5, 3.0, 1.0]"
      ]
     },
     "execution_count": 17,
     "metadata": {},
     "output_type": "execute_result"
    }
   ],
   "source": [
    "y_test = 1.0\n",
    "Y_in = np.array([2.0, -1.5, -2, 0])\n",
    "listOfDistances(y_test, Y_in)"
   ]
  },
  {
   "cell_type": "markdown",
   "id": "b8cf3059",
   "metadata": {},
   "source": [
    "#### Determine k Nearest Neighbours"
   ]
  },
  {
   "cell_type": "markdown",
   "id": "7aa26a61",
   "metadata": {},
   "source": [
    "#### Sorting the distances and returning indices"
   ]
  },
  {
   "cell_type": "code",
   "execution_count": 18,
   "id": "e1bbadfb",
   "metadata": {},
   "outputs": [],
   "source": [
    "def kNearestIndices(distance_list, k): \n",
    "    \"\"\"\n",
    "    Calculates a list of the nearest indices to the test point\n",
    "    \n",
    "    Arguments:\n",
    "        distance_list (array): 1-D array containing list of distances\n",
    "        k (int): Number of nearest points desired\n",
    "    \n",
    "    Returns:\n",
    "        List of the k-nearest indices to the test point\n",
    "    \"\"\"\n",
    "    # Step 1: Create an empty numpy array\n",
    "    arr_empty = np.array([])\n",
    "    \n",
    "    # Step 2: Append the distance_list python array\n",
    "    arr_append = np.append (arr_empty, distance_list)\n",
    "    \n",
    "    # Step 3: Sort the array elements in ascending order\n",
    "    arr_sort = np.argsort(arr_append)\n",
    "    \n",
    "    # Step 4: Retain first k elements\n",
    "    k_nearest_indices = arr_sort[:k]\n",
    "    \n",
    "    return k_nearest_indices"
   ]
  },
  {
   "cell_type": "code",
   "execution_count": 19,
   "id": "c1ecff05",
   "metadata": {},
   "outputs": [
    {
     "name": "stdout",
     "output_type": "stream",
     "text": [
      "[3 2 1]\n"
     ]
    }
   ],
   "source": [
    "# Test Cell\n",
    "print(kNearestIndices([5.0, 3.5, 2.5, 1.0], 3))"
   ]
  },
  {
   "cell_type": "markdown",
   "id": "eee4887b",
   "metadata": {},
   "source": [
    "#### Returning the Values at the K-Nearest Indeces"
   ]
  },
  {
   "cell_type": "code",
   "execution_count": 20,
   "id": "2605a31d",
   "metadata": {},
   "outputs": [],
   "source": [
    "def kNearestNeighbours(k_nearest_indices, X_in, Y_in):\n",
    "    \"\"\"\n",
    "    Calculates a list of the nearest neighbours to the test point\n",
    "    \n",
    "    Arguments:\n",
    "        k_nearest_indices (array): 1-D array containing list of distances\n",
    "        X_in (array): 1-D array containing data array points\n",
    "        Y_in (array): 1-D array containing label points\n",
    "    \n",
    "    Returns:\n",
    "        List of the k-nearest neighbours to the test point\n",
    "    \"\"\"\n",
    "    # Step 1: Create two Python lists\n",
    "    X = []\n",
    "    Y = []\n",
    "    \n",
    "    # Step 2: Identify how many nearest neighbours\n",
    "    #         are to be used\n",
    "    length = len(k_nearest_indices)\n",
    "    \n",
    "    # Step 3: Place the nearest neighbour in the created\n",
    "    #         Python list, head first\n",
    "    while length > 0:\n",
    "        X.insert(0, X_in[k_nearest_indices[length - 1]])\n",
    "        Y.insert(0, Y_in[k_nearest_indices[length - 1]])\n",
    "\n",
    "        length = length - 1\n",
    "    \n",
    "    # Step 4: Use the Python lists to create ceooresponding\n",
    "    #.        numpy arrays\n",
    "    X_k = np.array (X)\n",
    "    Y_k = np.array (Y)\n",
    "\n",
    "    return X_k, Y_k"
   ]
  },
  {
   "cell_type": "code",
   "execution_count": 21,
   "id": "04d7232a",
   "metadata": {},
   "outputs": [
    {
     "name": "stdout",
     "output_type": "stream",
     "text": [
      "[1 2 4]\n",
      "[0 0 0]\n"
     ]
    }
   ],
   "source": [
    "# Test Cell\n",
    "X_train_grade = np.array([1, 2, 3, 4, 5, 6, 7, 8])\n",
    "\n",
    "Y_train_grade = np.array([0, 0, 0, 0, 1, 1, 1, 0])\n",
    "\n",
    "X_k_grade, Y_k_grade = kNearestNeighbours([0, 1, 3], X_train_grade, Y_train_grade)\n",
    "\n",
    "print(X_k_grade)\n",
    "print(Y_k_grade)"
   ]
  },
  {
   "cell_type": "code",
   "execution_count": 22,
   "id": "a5d20686",
   "metadata": {},
   "outputs": [],
   "source": [
    "from scipy import stats"
   ]
  },
  {
   "cell_type": "markdown",
   "id": "ee3cc01b",
   "metadata": {},
   "source": [
    "#### Predict Category"
   ]
  },
  {
   "cell_type": "code",
   "execution_count": 23,
   "id": "189e649e",
   "metadata": {},
   "outputs": [],
   "source": [
    "def predict(x_test, X_in, Y_in, k):\n",
    "    \"\"\"\n",
    "    Determine the most likely identity of the test point\n",
    "    \n",
    "    Arguments:\n",
    "        x_test (array): 1-D array containing test point\n",
    "        X_in (array): 1-D array containing data array points\n",
    "        Y_in (array): 1-D array containing label points\n",
    "        k (int): Number of nearest points desired\n",
    "\n",
    "    Returns:\n",
    "        Most likely identity of test point\n",
    "    \"\"\"\n",
    "    # Step 1: Task 2 - Calculate list of distances\n",
    "    distance_list = []\n",
    "    distance_list = listOfDistances(x_test, X_in)\n",
    "    # print(distance_list)\n",
    "    \n",
    "    # Step 2: Task 3.1 - Determine k Nearest Indices\n",
    "    k_nearest_indices = kNearestIndices(distance_list, k)\n",
    "    # print(k_nearest_indices)\n",
    "\n",
    "    # Step 3: Task 3.2 - Determine k Nearest Neighbours\n",
    "    X_k, Y_k = kNearestNeighbours(k_nearest_indices, X_in, Y_in)\n",
    "    # print(Y_k)\n",
    "\n",
    "    # Step 4: Determine mode of classes\n",
    "    prediction = np.array(stats.mode(Y_k))\n",
    "    # print(prediction)\n",
    "\n",
    "    # Step 5: Return only the class member\n",
    "    return prediction[0]"
   ]
  },
  {
   "cell_type": "code",
   "execution_count": 24,
   "id": "a93b9bb1",
   "metadata": {},
   "outputs": [
    {
     "name": "stdout",
     "output_type": "stream",
     "text": [
      "[0]\n"
     ]
    }
   ],
   "source": [
    "# Test Cell\n",
    "X_train_grade = np.array([1, 2, 3, 4, 5, 6, 7, 8])\n",
    "\n",
    "Y_train_grade = np.array([0, 0, 0, 0, 1, 1, 1, 0])\n",
    "\n",
    "x1_grade = np.array([0])\n",
    "k_grade = 3\n",
    "print(predict(x1_grade, X_train_grade, Y_train_grade, k_grade))"
   ]
  },
  {
   "cell_type": "markdown",
   "id": "6d9722bb",
   "metadata": {},
   "source": [
    "#### Predict for an entire batch of test examples"
   ]
  },
  {
   "cell_type": "code",
   "execution_count": 25,
   "id": "1619b16d",
   "metadata": {},
   "outputs": [],
   "source": [
    "def predictBatch(X_t, X_in, Y_in, k):\n",
    "    \"\"\"\n",
    "    Determine the most likely identities of the test point list\n",
    "    \n",
    "    Arguments:\n",
    "        X_t (array): 1-D array containing test point list\n",
    "        X_in (array): 1-D array containing data array points\n",
    "        Y_in (array): 1-D array containing label points\n",
    "        k (int): Number of nearest points desired\n",
    "\n",
    "    Returns:\n",
    "        Most likely identity of test point list values\n",
    "    \"\"\"\n",
    "    length = len(X_t)\n",
    "    \n",
    "    predictions_py = []\n",
    "\n",
    "    while (length > 0):\n",
    "        # Step 1: Identify the prediction for the last index\n",
    "        prediction = predict(X_t[length-1], X_in, Y_in, k)\n",
    "        \n",
    "        # Step 2: Concatenate the index to the head of the list\n",
    "        predictions_py = [*prediction, *predictions_py]\n",
    "\n",
    "        length = length - 1\n",
    "        \n",
    "    predictions = np.array(predictions_py)\n",
    "    \n",
    "    return predictions"
   ]
  },
  {
   "cell_type": "code",
   "execution_count": 26,
   "id": "2a32c993",
   "metadata": {},
   "outputs": [
    {
     "name": "stdout",
     "output_type": "stream",
     "text": [
      "[0 0 0 1]\n"
     ]
    }
   ],
   "source": [
    "# Test Cell\n",
    "X_train_grade = np.array([1, 2, 3, 4, 15, 16, 17, 5])\n",
    "\n",
    "Y_train_grade = np.array([0, 0, 0, 0, 1, 1, 1, 0])\n",
    "\n",
    "X_test_grade = np.array([1, 2, 3, 14])\n",
    "\n",
    "Y_test_grade = np.array([0, 0, 0, 1])\n",
    "\n",
    "k_grade=1\n",
    "\n",
    "print(predictBatch(X_test_grade, X_train_grade, Y_train_grade, k=k_grade))"
   ]
  },
  {
   "cell_type": "markdown",
   "id": "a6dcbb60",
   "metadata": {},
   "source": [
    "#### Accuracy Metric"
   ]
  },
  {
   "cell_type": "code",
   "execution_count": 27,
   "id": "be48cf16",
   "metadata": {},
   "outputs": [],
   "source": [
    "def accuracy(Y_pred, Y_test):\n",
    "    \"\"\"\n",
    "    Determine the accuracy of the prediction with respect\n",
    "    to the true value (label)\n",
    "    \n",
    "    Arguments:\n",
    "        Y_pred (array): 1-D array containing prediction point list\n",
    "        Y_test (array): 1-D array containing label point list\n",
    "\n",
    "    Returns:\n",
    "        Accuracy of prediction\n",
    "    \"\"\"\n",
    "    length = len(Y_pred)\n",
    "    correct = 0\n",
    "    \n",
    "    while length > 0:\n",
    "        \n",
    "        # Step 1: Identify if the array alements are equal\n",
    "        if np.equal(Y_pred[length - 1], Y_test[length - 1]):\n",
    "            \n",
    "            # Step 2: If equal increment correct\n",
    "            correct = correct + 1\n",
    "            \n",
    "        length = length - 1\n",
    "    \n",
    "    accuracy = correct / len(Y_pred)\n",
    "    \n",
    "    return accuracy"
   ]
  },
  {
   "cell_type": "code",
   "execution_count": 28,
   "id": "9635ed43",
   "metadata": {},
   "outputs": [
    {
     "name": "stdout",
     "output_type": "stream",
     "text": [
      "1.0\n"
     ]
    }
   ],
   "source": [
    "# Test Cell\n",
    "Y_test_grade = np.array([0, 0, 0, 1])\n",
    "Y_pred_grade = np.array([0, 0, 0, 1])\n",
    "\n",
    "print(accuracy(Y_pred_grade, Y_test_grade))"
   ]
  },
  {
   "cell_type": "markdown",
   "id": "e2cdcc56",
   "metadata": {},
   "source": [
    "#### Single Method Implementation"
   ]
  },
  {
   "cell_type": "code",
   "execution_count": 29,
   "id": "de5e363e",
   "metadata": {},
   "outputs": [],
   "source": [
    "def run(X_train, X_test, Y_train, Y_test, k):\n",
    "    \"\"\"\n",
    "    Defines the kNN algortithm in one method\n",
    "    \n",
    "    Arguments:\n",
    "        X_train (array): 1-D array containing training data points\n",
    "        X_test (array): 1-D array containing testing data points\n",
    "        Y_train (array): 1-D array containing training label points\n",
    "        Y_test (array): 1-D array containing testing label points\n",
    "        k (int): Number of nearest points desired\n",
    "\n",
    "    Returns:\n",
    "        Accuracy of prediction\n",
    "    \"\"\"\n",
    "    # Step 1: Task 5 - Predict for an entire batch of test examples\n",
    "    Y_pred = predictBatch(X_test, X_train, Y_train, k)\n",
    "    \n",
    "    # Step 2: Task 6 - Accuracy metric\n",
    "    test_accuracy = accuracy(Y_pred, Y_test)\n",
    "    \n",
    "    return test_accuracy"
   ]
  },
  {
   "cell_type": "code",
   "execution_count": 30,
   "id": "99c1f248",
   "metadata": {},
   "outputs": [
    {
     "name": "stdout",
     "output_type": "stream",
     "text": [
      "Accuracy Test:\n",
      "1.0\n"
     ]
    }
   ],
   "source": [
    "# Test Cell\n",
    "X_train_grade = np.array([1, 2, 3, 4, 15, 16, 17, 5])\n",
    "Y_train_grade = np.array([0, 0, 0, 0, 1, 1, 1, 0])\n",
    "\n",
    "X_test_grade = np.array([1, 2, 3, 14])\n",
    "Y_test_grade = np.array([0, 0, 0, 1])\n",
    "k_grade=3\n",
    "\n",
    "print(\"Accuracy Test:\")\n",
    "print(f'{run(X_train_grade, X_test_grade, Y_train_grade, Y_test_grade, k_grade)}')"
   ]
  },
  {
   "cell_type": "markdown",
   "id": "71d18fb8",
   "metadata": {},
   "source": []
  },
  {
   "cell_type": "markdown",
   "id": "29cbf51a",
   "metadata": {},
   "source": [
    "## Project: Diverge from the sound basis"
   ]
  },
  {
   "cell_type": "code",
   "execution_count": 31,
   "id": "26750f34",
   "metadata": {},
   "outputs": [
    {
     "name": "stdout",
     "output_type": "stream",
     "text": [
      "kNN algorithm accuracy:\n",
      "0.875\n"
     ]
    }
   ],
   "source": [
    "k = 1\n",
    "print(\"kNN algorithm accuracy:\")\n",
    "print(f'{run(speach_music_train, speach_music_test, label_sm_train, label_sm_test, k)}')"
   ]
  },
  {
   "cell_type": "markdown",
   "id": "11940b51",
   "metadata": {},
   "source": [
    "Thank you for reading through to the end of this notebook"
   ]
  },
  {
   "cell_type": "markdown",
   "id": "5f2a994e",
   "metadata": {},
   "source": [
    "### Fin"
   ]
  },
  {
   "cell_type": "code",
   "execution_count": null,
   "id": "d73e76d8",
   "metadata": {},
   "outputs": [],
   "source": []
  }
 ],
 "metadata": {
  "kernelspec": {
   "display_name": " Python (intro-ml)",
   "language": "python",
   "name": "intro-ml"
  },
  "language_info": {
   "codemirror_mode": {
    "name": "ipython",
    "version": 3
   },
   "file_extension": ".py",
   "mimetype": "text/x-python",
   "name": "python",
   "nbconvert_exporter": "python",
   "pygments_lexer": "ipython3",
   "version": "3.8.10"
  }
 },
 "nbformat": 4,
 "nbformat_minor": 5
}
